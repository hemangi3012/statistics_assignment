{
 "cells": [
  {
   "cell_type": "markdown",
   "id": "95a298ae-45ea-4dbb-96a6-f2cb9c9e2154",
   "metadata": {},
   "source": [
    "Q1. What is the Probability density function?"
   ]
  },
  {
   "cell_type": "markdown",
   "id": "f590b537-b580-4516-8a09-e4e087338384",
   "metadata": {},
   "source": [
    " Probability density function (PDF) is a mathematical function used to describe the probability distribution of a continuous random variable.\n",
    "\n",
    "The PDF describes the relative likelihood of the values of the random variable occurring within a given interval. It is a non-negative function, and the area under the curve of the PDF over an interval gives the probability of the variable taking values in that interval.\n",
    "\n",
    "The PDF is defined as the derivative of the cumulative distribution function (CDF) of the random variable. In other words, if F(x) is the CDF of the random variable X, then the PDF f(x) is defined as:\n",
    "\n",
    "      f(x) = dF(x)/dx\n",
    "\n",
    "where d/dx denotes the derivative with respect to x.\n",
    "\n",
    "The PDF can be used to calculate various statistical properties of the random variable, such as mean, variance, and moments. It is an essential concept in probability theory and statistics and is used in various fields, including engineering, economics, physics, and finance.\n"
   ]
  },
  {
   "cell_type": "markdown",
   "id": "31129a23-11dd-4bb0-9b75-e0f321cecc99",
   "metadata": {},
   "source": [
    "Q2. What are the types of Probability distribution?"
   ]
  },
  {
   "cell_type": "markdown",
   "id": "5446c243-7ee5-4fbd-86ea-aad11166fa98",
   "metadata": {},
   "source": [
    "There are several types of probability distributions, but the most common ones are:\n",
    "\n",
    "1.Normal Distribution: It is a bell-shaped distribution that is symmetric around its mean. Many natural phenomena follow the normal distribution, and it is often used in statistical inference.\n",
    "\n",
    "2.Binomial Distribution: It is a discrete distribution that describes the number of successes in a fixed number of independent trials, where each trial has the same probability of success.\n",
    "\n",
    "3.Poisson Distribution: It is a discrete distribution that describes the number of events occurring in a fixed interval of time or space, given that the events occur independently and at a constant rate.\n",
    "\n",
    "4.Exponential Distribution: It is a continuous distribution that describes the time between two successive events occurring in a Poisson process.\n",
    "\n",
    "5.Uniform Distribution: It is a continuous distribution where all values in a given interval have an equal probability of occurring.\n",
    "\n",
    "6.Gamma Distribution: It is a continuous distribution that is used to model the time until a specified event occurs, given that the event occurs at a constant rate.\n",
    "\n",
    "7.Beta Distribution: It is a continuous distribution that is used to model probabilities or proportions.\n",
    "\n",
    "These are some of the most common types of probability distributions. There are many other probability distributions, each with its own unique characteristics and applications.\n"
   ]
  },
  {
   "cell_type": "markdown",
   "id": "7b445c0d-622c-41a9-b6e2-554f8960997d",
   "metadata": {},
   "source": [
    "Q3. Write a Python function to calculate the probability density function of a normal distribution with\n",
    "given mean and standard deviation at a given point."
   ]
  },
  {
   "cell_type": "markdown",
   "id": "43ebdf39-4d5a-4e16-bd35-2f4da7beb76f",
   "metadata": {},
   "source": [
    " Here's an example Python function to calculate the probability density function (PDF) of a normal distribution with a given mean and standard deviation at a given point:\n",
    "\n",
    "    import math\n",
    "\n",
    "def normal_pdf(x, mu, sigma):\n",
    "    \"\"\"\n",
    "    Calculates the PDF of a normal distribution with the given mean and standard deviation at the given point.\n",
    "    \n",
    "    Args:\n",
    "    x (float): The point at which to calculate the PDF.\n",
    "    mu (float): The mean of the normal distribution.\n",
    "    sigma (float): The standard deviation of the normal distribution.\n",
    "    \n",
    "    Returns:\n",
    "    float: The PDF of the normal distribution at the given point.\n",
    "    \"\"\"\n",
    "    coefficient = 1 / (sigma * math.sqrt(2 * math.pi))\n",
    "    exponent = -0.5 * ((x - mu) / sigma) ** 2\n",
    "    pdf = coefficient * math.exp(exponent)\n",
    "    return pdf\n",
    "\n",
    "To use this function, simply call it with the desired parameters:\n",
    "    \n",
    "mu = 0.0  # mean of the normal distribution\n",
    "sigma = 1.0  # standard deviation of the normal distribution\n",
    "x = 1.5  # point at which to calculate the PDF\n",
    "\n",
    "pdf = normal_pdf(x, mu, sigma)\n",
    "print(pdf)\n",
    "\n",
    "This will output the PDF of the normal distribution with mean 0.0 and standard deviation 1.0 at the point x=1.5."
   ]
  },
  {
   "cell_type": "markdown",
   "id": "45d76894-6c22-4c11-b208-e12c2332a8f3",
   "metadata": {},
   "source": [
    "Q4. What are the properties of Binomial distribution? Give two examples of events where binomial\n",
    "distribution can be applied."
   ]
  },
  {
   "cell_type": "markdown",
   "id": "81c5a1da-ed22-445d-96ab-61187da13070",
   "metadata": {},
   "source": [
    " Properties of Binomial Distribution:\n",
    "\n",
    "1.Fixed number of independent trials: The binomial distribution describes the number of successes in a fixed number of independent trials.\n",
    "\n",
    "2.Two possible outcomes: Each trial has only two possible outcomes, either success or failure.\n",
    "\n",
    "3.Constant probability: The probability of success is constant for each trial.\n",
    "\n",
    "4.Independent trials: The outcome of each trial is independent of the outcome of any other trial.\n",
    "\n",
    "Examples of events where binomial distribution can be applied:\n",
    "\n",
    "1.Coin tosses: The outcome of a coin toss can be modeled using a binomial distribution. If we toss a coin n times, the number of heads obtained follows a binomial distribution, where success is defined as obtaining a head, and failure is defined as obtaining a tail.\n",
    "\n",
    "2.Product defects: A manufacturing company produces a large number of products, and some of them may be defective. If we inspect a sample of products and count the number of defective items, this can be modeled using a binomial distribution, where success is defined as finding a defective item, and failure is defined as finding a non-defective item. The probability of success in this case is the probability of a product being defective.\n"
   ]
  },
  {
   "cell_type": "markdown",
   "id": "cd464821-0aea-468a-bbec-869523a21745",
   "metadata": {},
   "source": [
    "Q5. Generate a random sample of size 1000 from a binomial distribution with probability of success 0.4\n",
    "and plot a histogram of the results using matplotlib."
   ]
  },
  {
   "cell_type": "markdown",
   "id": "c7129347-1108-4399-a9b9-e08a29178096",
   "metadata": {},
   "source": [
    "-\n",
    "    Here's an example Python code to generate a random sample of size 1000 from a binomial distribution with probability of success 0.4 and plot a histogram of the results using matplotlib:\n",
    "    \n",
    "import numpy as np\n",
    "import matplotlib.pyplot as plt\n",
    "\n",
    "# Set the parameters of the binomial distribution\n",
    "n = 1  # number of trials\n",
    "p = 0.4  # probability of success\n",
    "\n",
    "# Generate a random sample of size 1000 from the binomial distribution\n",
    "sample = np.random.binomial(n, p, size=1000)\n",
    "\n",
    "# Plot a histogram of the sample using matplotlib\n",
    "plt.hist(sample, bins=range(n+2), align='left', rwidth=0.8)\n",
    "plt.xlabel('Number of successes')\n",
    "plt.ylabel('Frequency')\n",
    "plt.title('Binomial distribution with n={} and p={}'.format(n, p))\n",
    "plt.show()\n",
    "\n",
    "In this code, we first set the parameters of the binomial distribution, which are the number of trials (n) and the probability of success (p). We then use the np.random.binomial function from the numpy library to generate a random sample of size 1000 from the binomial distribution with these parameters. Finally, we use the plt.hist function from the matplotlib library to plot a histogram of the sample, where each bar represents the frequency of a certain number of successes.\n",
    "\n",
    "The resulting plot will show the distribution of the number of successes in the sample, which should be centered around the expected value of np=0.4.\n"
   ]
  },
  {
   "cell_type": "markdown",
   "id": "54d41919-2f12-4470-96a5-89215adc253c",
   "metadata": {},
   "source": [
    "Q6. Write a Python function to calculate the cumulative distribution function of a Poisson distribution\n",
    "with given mean at a given point."
   ]
  },
  {
   "cell_type": "markdown",
   "id": "2c74bdf2-b328-4885-8bd7-821da2fdf30f",
   "metadata": {},
   "source": [
    "Here's an example Python function to calculate the cumulative distribution function (CDF) of a Poisson distribution with a given mean at a given point:\n",
    "    \n",
    "    import math\n",
    "\n",
    "def poisson_cdf(k, mu):\n",
    "    \"\"\"\n",
    "    Calculates the CDF of a Poisson distribution with the given mean at the given point.\n",
    "    \n",
    "    Args:\n",
    "    k (int): The point at which to calculate the CDF.\n",
    "    mu (float): The mean of the Poisson distribution.\n",
    "    \n",
    "    Returns:\n",
    "    float: The CDF of the Poisson distribution at the given point.\n",
    "    \"\"\"\n",
    "    cdf = 0.0\n",
    "    for i in range(k+1):\n",
    "        cdf += math.exp(-mu) * mu**i / math.factorial(i)\n",
    "    return cdf\n",
    "\n",
    "To use this function, simply call it with the desired parameters:\n",
    "\n",
    "\n",
    "mu = 2.5  # mean of the Poisson distribution\n",
    "k = 4  # point at which to calculate the CDF\n",
    "\n",
    "cdf = poisson_cdf(k, mu)\n",
    "print(cdf)\n",
    "\n",
    "This will output the CDF of the Poisson distribution with mean 2.5 at the point k=4. The CDF represents the probability that the random variable takes a value less than or equal to k, so the output of the function represents the probability of observing 4 or fewer events in a Poisson process with a mean of 2.5.\n"
   ]
  },
  {
   "cell_type": "markdown",
   "id": "e1b2ec59-2377-4b56-8ff5-79bd78d85002",
   "metadata": {},
   "source": [
    "Q7. How Binomial distribution different from Poisson distribution?"
   ]
  },
  {
   "cell_type": "markdown",
   "id": "cf7bb96b-fcdb-420d-a9cc-326f83c4a521",
   "metadata": {},
   "source": [
    "Binomial and Poisson distributions are both discrete probability distributions, but they have some key differences:\n",
    "\n",
    "1.Number of trials: The binomial distribution describes the number of successes in a fixed number of independent trials, while the Poisson distribution describes the number of events occurring in a fixed interval of time or space.\n",
    "\n",
    "2.Probability of success: In the binomial distribution, the probability of success is constant for each trial, while in the Poisson distribution, the probability of an event occurring is constant for each unit of time or space.\n",
    "\n",
    "3.Relationship between mean and variance: In the binomial distribution, the variance is equal to np(1-p), where n is the number of trials and p is the probability of success. In the Poisson distribution, the variance is equal to the mean.\n",
    "\n",
    "4.Assumptions: The binomial distribution assumes a fixed number of trials and a constant probability of success, while the Poisson distribution assumes a large number of independent events occurring at a constant rate.\n",
    "\n",
    "5.Application: The binomial distribution is commonly used to model the probability of a certain number of successes in a fixed number of trials, while the Poisson distribution is commonly used to model the probability of a certain number of events occurring in a fixed interval of time or space.\n",
    "\n",
    "\n",
    "In summary, the binomial distribution is used when there are a fixed number of independent trials, and the probability of success is constant for each trial, while the Poisson distribution is used when there are a large number of independent events occurring at a constant rate\n"
   ]
  },
  {
   "cell_type": "markdown",
   "id": "69e68284-d674-4bef-a7be-d91ad1e9433c",
   "metadata": {},
   "source": [
    "Q8. Generate a random sample of size 1000 from a Poisson distribution with mean 5 and calculate the\n",
    "sample mean and variance."
   ]
  },
  {
   "cell_type": "markdown",
   "id": "5363ec25-cbbb-4ff6-ab41-c68a26516a14",
   "metadata": {},
   "source": [
    "Here's an example Python code to generate a random sample of size 1000 from a Poisson distribution with mean 5 and calculate the sample mean and variance:\n",
    "     \n",
    "import numpy as np\n",
    "\n",
    "# Set the parameters of the Poisson distribution\n",
    "mu = 5  # mean\n",
    "\n",
    "# Generate a random sample of size 1000 from the Poisson distribution\n",
    "sample = np.random.poisson(mu, size=1000)\n",
    "\n",
    "# Calculate the sample mean and variance\n",
    "sample_mean = np.mean(sample)\n",
    "sample_var = np.var(sample, ddof=1)  # use ddof=1 for unbiased variance\n",
    "\n",
    "print(\"Sample mean: {:.2f}\".format(sample_mean))\n",
    "print(\"Sample variance: {:.2f}\".format(sample_var))\n",
    "\n",
    "In this code, we first set the parameter of the Poisson distribution, which is the mean (mu). We then use the np.random.poisson function from the numpy library to generate a random sample of size 1000 from the Poisson distribution with this mean. Finally, we use the np.mean and np.var functions from the numpy library to calculate the sample mean and variance, respectively.\n",
    "\n",
    "The output of this code will be the sample mean and variance of the generated sample, which should be close to the population mean and variance of a Poisson distribution with mean 5.\n"
   ]
  },
  {
   "cell_type": "markdown",
   "id": "80c636dc-43dd-4497-8ac2-419e975470f4",
   "metadata": {},
   "source": [
    "Q9. How mean and variance are related in Binomial distribution and Poisson distribution?"
   ]
  },
  {
   "cell_type": "markdown",
   "id": "bcdae187-2008-484a-8fb8-43e2f9dfdc55",
   "metadata": {},
   "source": [
    "In the Binomial distribution, the mean (μ) and variance (σ^2) are related by the formula:\n",
    "\n",
    "      σ^2 = μ(1 - p)\n",
    "\n",
    "where μ is the mean of the distribution and p is the probability of success in each trial. This formula implies that the variance increases as the probability of success decreases, and it reaches its maximum when p = 0.5.\n",
    "\n",
    "In the Poisson distribution, the mean (μ) and variance (σ^2) are equal:\n",
    "\n",
    "      σ^2 = μ\n",
    "\n",
    "This means that the variance of the distribution is proportional to its mean. As the mean of the distribution increases, so does its variance.\n",
    "\n",
    "In summary, in the Binomial distribution, the variance depends on both the mean and the probability of success, while in the Poisson distribution, the variance depends only on the mean. In both cases, the variance is an important measure of the spread or dispersion of the distribution, and it provides information about how much the random variable deviates from its mean value.\n"
   ]
  },
  {
   "cell_type": "markdown",
   "id": "2971e4d5-cb83-4e09-bd36-05b20d9edd31",
   "metadata": {},
   "source": [
    "Q10. In normal distribution with respect to mean position, where does the least frequent data appear?"
   ]
  },
  {
   "cell_type": "markdown",
   "id": "6703cb1d-74cc-4b36-b038-806be2b4396b",
   "metadata": {},
   "source": [
    "In a normal distribution, the least frequent data appears in the tails of the distribution, which are the regions furthest away from the mean. Specifically, the probability density function of a normal distribution is highest at the mean and decreases as we move away from the mean in either direction towards the tails. Therefore, the least frequent data appears in the tails of the distribution, where the probability density function is lower.\n",
    "\n",
    "For example, in a standard normal distribution (with a mean of 0 and a standard deviation of 1), the least frequent data appears in the tails beyond about 2 or 3 standard deviations from the mean. These extreme values are sometimes referred to as outliers or anomalies, and they may be of special interest in certain applications or analyses.\n",
    "    "
   ]
  }
 ],
 "metadata": {
  "kernelspec": {
   "display_name": "Python 3 (ipykernel)",
   "language": "python",
   "name": "python3"
  },
  "language_info": {
   "codemirror_mode": {
    "name": "ipython",
    "version": 3
   },
   "file_extension": ".py",
   "mimetype": "text/x-python",
   "name": "python",
   "nbconvert_exporter": "python",
   "pygments_lexer": "ipython3",
   "version": "3.10.8"
  }
 },
 "nbformat": 4,
 "nbformat_minor": 5
}
